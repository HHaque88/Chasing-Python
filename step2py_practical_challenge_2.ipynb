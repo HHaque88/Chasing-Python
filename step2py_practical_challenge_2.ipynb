{
 "cells": [
  {
   "cell_type": "markdown",
   "metadata": {
    "id": "EdMu6KLVb7-1"
   },
   "source": [
    "# Step into Python: Practical Challenge \\#2\n",
    "\n",
    "This homework is based on `for loop` and the use of conditional clauses. If you have questions, please use the support channels outlined in the course RESOURCES section.\n",
    "\n",
    "Do not use ChatGPT. You won't learn anything if you use it. But you can use it to get additional explanations *after* you've attempted to solve them."
   ]
  },
  {
   "cell_type": "markdown",
   "metadata": {
    "id": "NM8itSi0b28F"
   },
   "source": [
    "## Problem 1 Multiplication Table\n",
    "Write a Python program that generates a multiplication table for a given integer $n.$ The program should print the table from 1 to 10 for the given number.\n",
    "\n",
    "For example, if you input 6, the program should print:\n",
    "\n",
    "```\n",
    "6 x 1 = 6\n",
    "6 x 2 = 12\n",
    "6 x 3 = 18\n",
    "6 x 4 = 24\n",
    "6 x 5 = 30\n",
    "6 x 6 = 36\n",
    "6 x 7 = 42\n",
    "6 x 8 = 48\n",
    "6 x 9 = 54\n",
    "6 x 10 = 60\n",
    "```"
   ]
  },
  {
   "cell_type": "markdown",
   "metadata": {},
   "source": [
    "# Solution 1:"
   ]
  },
  {
   "cell_type": "code",
   "execution_count": 4,
   "metadata": {},
   "outputs": [
    {
     "name": "stdout",
     "output_type": "stream",
     "text": [
      "Enter your desired number for Multiplication Table: 9\n",
      "9 x 1 = 9\n",
      "9 x 2 = 18\n",
      "9 x 3 = 27\n",
      "9 x 4 = 36\n",
      "9 x 5 = 45\n",
      "9 x 6 = 54\n",
      "9 x 7 = 63\n",
      "9 x 8 = 72\n",
      "9 x 9 = 81\n",
      "9 x 10 = 90\n"
     ]
    }
   ],
   "source": [
    "# Multiplication Table\n",
    "num= int(input(\"Enter your desired number for Multiplication Table: \"))\n",
    "for i in range(1,11):\n",
    "    print(f\"{num} x {i} = {num*i}\")"
   ]
  },
  {
   "cell_type": "markdown",
   "metadata": {
    "id": "39dhJ_IicHpK"
   },
   "source": [
    "## Problem 2: Sum of Series\n",
    "\n",
    "Write a program to calculate the sum of the series: `1 + 2 + 3 + ... + n`, where n is a positive integer entered by the user.\n",
    "\n",
    "For example, if someone inputs 10, it should print the sum of the numbers 1 to 10 and display as follows.\n",
    "\n",
    "```\n",
    "Enter a positive integer (n): 10\n",
    "The sum of the series from 1 to 10 is 55\n",
    "```"
   ]
  },
  {
   "cell_type": "markdown",
   "metadata": {},
   "source": [
    "# Solution 2:"
   ]
  },
  {
   "cell_type": "code",
   "execution_count": 9,
   "metadata": {},
   "outputs": [
    {
     "name": "stdout",
     "output_type": "stream",
     "text": [
      "Enter a positive integer (n): 100\n",
      "The sum of the series from 1 to 100 is 5050\n"
     ]
    }
   ],
   "source": [
    "# Solution to Problem 2\n",
    "n=int(input(\"Enter a positive integer (n): \"))\n",
    "if n < 0:\n",
    "    print(\"Wrong Number, Please enter valid integer.\")\n",
    "else:\n",
    "    sum=0\n",
    "    for i in range(1,n+1):\n",
    "        sum=sum+i\n",
    "    print(f\"The sum of the series from 1 to {n} is {sum}\")"
   ]
  },
  {
   "cell_type": "markdown",
   "metadata": {
    "id": "wt4-gJwJdPzC"
   },
   "source": [
    "## Problem 3 Vowel Count\n",
    "\n",
    "Write a Python program that takes a string as input and counts the number of vowels (a, e, i, o, u) in the string using a for loop and if condition.\n",
    "\n",
    "Assume that the user only inputs small letters such as `hello`, and not `Hello`\n",
    "\n",
    "The code should ask for an input. For examle, when prompted a user inputs \"hello\" without the quote. The program should output the following\n",
    "\n",
    "```\n",
    "Enter a string: hello\n",
    "Number of vowels in the string: 2\n",
    "```"
   ]
  },
  {
   "cell_type": "markdown",
   "metadata": {},
   "source": [
    "# Solution 3:"
   ]
  },
  {
   "cell_type": "code",
   "execution_count": 4,
   "metadata": {},
   "outputs": [
    {
     "name": "stdout",
     "output_type": "stream",
     "text": [
      "Enter a string: LOVE Your Country\n",
      "Number of vowels in the string:  6\n"
     ]
    }
   ],
   "source": [
    "string=input(\"Enter a string: \")\n",
    "new_string=string.lower()\n",
    "count=0\n",
    "for i in new_string:\n",
    "    if i in [\"a\",\"e\",\"i\",\"o\",\"u\"]:\n",
    "        count +=1\n",
    "print(\"Number of vowels in the string: \",count)\n",
    "    "
   ]
  },
  {
   "cell_type": "markdown",
   "metadata": {
    "id": "aT_uL4wpdsXJ"
   },
   "source": [
    "## Problem 4\n",
    "\n",
    "Write a program that takes a string as input and reverses the string using a for loop. Here's an example code to reverse a string using a for loop.\n",
    "\n",
    "For example, if you input 'Testing', the program should retur gnitseT\n",
    "\n",
    "```\n",
    "Enter a string: Testing\n",
    "Reversed string: gnitseT\n",
    "```"
   ]
  },
  {
   "cell_type": "markdown",
   "metadata": {},
   "source": [
    "# Solution 4:\n"
   ]
  },
  {
   "cell_type": "code",
   "execution_count": 17,
   "metadata": {},
   "outputs": [
    {
     "name": "stdout",
     "output_type": "stream",
     "text": [
      "Enter a string: oop\n",
      "Reverse string:  poo\n",
      "Not Paliendrum\n",
      "poo\n"
     ]
    }
   ],
   "source": [
    "str4=input(\"Enter a string: \")\n",
    "reverse=\"\"\n",
    "for index in range(1,len(str4)+1):\n",
    "    reverse +=str4[-index]\n",
    "print(\"Reverse string: \",reverse)\n",
    "\n",
    "if str4==reverse:\n",
    "    print(\"It's a paliandrum \")\n",
    "else: \n",
    "    print(\"Not Paliendrum\")\n",
    "\n",
    "print(str4[::-1])   ###  Reversing using slicing\n",
    "    "
   ]
  },
  {
   "cell_type": "code",
   "execution_count": 18,
   "metadata": {},
   "outputs": [
    {
     "name": "stdout",
     "output_type": "stream",
     "text": [
      "!dlroW ,olleH\n"
     ]
    }
   ],
   "source": [
    "#### Chat GPT solution 2\n",
    "original_string = \"Hello, World!\"\n",
    "reversed_string = \"\"\n",
    "\n",
    "for char in original_string:\n",
    "    #print (char)\n",
    "    reversed_string = char + reversed_string\n",
    "\n",
    "print(reversed_string)  # Output: \"!dlroW ,olleH\"\n"
   ]
  },
  {
   "cell_type": "markdown",
   "metadata": {
    "id": "68kVeJ5zeNSK"
   },
   "source": [
    "## Problem 5\n",
    "\n",
    "Write a program to use a for loop to count the even numbers in a given range. Here's an example code to count the even numbers in a specified range.\n",
    "\n",
    "Ask the user to input the start value, and the end value. Then the program should give you the count of the number of even numbers in that range.\n",
    "\n",
    "A user has input 1 as the starting value, and 10 as the ending value, which gives the following output.\n",
    "\n",
    "```\n",
    "Enter the start of the range: 1\n",
    "Enter the end of the range: 10\n",
    "The number of even numbers between 1 and 10 is: 5\n",
    "```"
   ]
  },
  {
   "cell_type": "markdown",
   "metadata": {},
   "source": [
    "# Solution 5:"
   ]
  },
  {
   "cell_type": "code",
   "execution_count": 21,
   "metadata": {},
   "outputs": [
    {
     "name": "stdout",
     "output_type": "stream",
     "text": [
      "Enter the start of the range: 1\n",
      "Enter the end of the range: 10\n",
      "The number  of even numbers between 1 and 10 is 5\n"
     ]
    }
   ],
   "source": [
    "num1=int(input(\"Enter the start of the range: \"))\n",
    "num2=int(input(\"Enter the end of the range: \"))\n",
    "count=0\n",
    "for i in range(num1,num2+1):\n",
    "    if i%2==0:\n",
    "        count=count+1\n",
    "    else:\n",
    "        continue\n",
    "print(f\"The number  of even numbers between {num1} and {num2} is {count}\")\n",
    "    "
   ]
  },
  {
   "cell_type": "code",
   "execution_count": null,
   "metadata": {},
   "outputs": [],
   "source": []
  }
 ],
 "metadata": {
  "colab": {
   "provenance": [],
   "toc_visible": true
  },
  "kernelspec": {
   "display_name": "Python 3",
   "language": "python",
   "name": "python3"
  },
  "language_info": {
   "codemirror_mode": {
    "name": "ipython",
    "version": 3
   },
   "file_extension": ".py",
   "mimetype": "text/x-python",
   "name": "python",
   "nbconvert_exporter": "python",
   "pygments_lexer": "ipython3",
   "version": "3.7.6"
  }
 },
 "nbformat": 4,
 "nbformat_minor": 1
}
