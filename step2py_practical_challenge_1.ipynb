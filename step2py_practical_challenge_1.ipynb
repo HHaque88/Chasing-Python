{
 "cells": [
  {
   "cell_type": "markdown",
   "metadata": {
    "id": "EdMu6KLVb7-1"
   },
   "source": [
    "# Step into Python: Practical Challenge \\#1\n",
    "\n",
    "This homework is based on conditional exeuction using `if-elif-else` clauses. If you have questions, please use the support channels outlined in the course RESOURCES section.\n",
    "\n",
    "Do not use ChatGPT. You won't learn anything if you use it. But you can use it to get additional explanations *after* you've attempted to solve them."
   ]
  },
  {
   "cell_type": "markdown",
   "metadata": {
    "id": "NM8itSi0b28F"
   },
   "source": [
    "## Problem 1\n",
    "\n",
    "Write a program that prompts the user to enter a number and determines whether it's positive, negative, or zero using if-else conditions.\n"
   ]
  },
  {
   "cell_type": "code",
   "execution_count": 1,
   "metadata": {
    "id": "IqkGzBOYkM5d"
   },
   "outputs": [
    {
     "name": "stdout",
     "output_type": "stream",
     "text": [
      "Enter a number: 8\n",
      "The entered number,8.0 is POSITIVE\n"
     ]
    }
   ],
   "source": [
    "number=float(input(\"Enter a number: \")) \n",
    "if number<0:\n",
    "    print(f\"The entered number,{number} is NEGATIVE\")\n",
    "elif number>0:\n",
    "    print(f\"The entered number,{number} is POSITIVE\")\n",
    "else:\n",
    "    print(\"You have entered ZERO\")"
   ]
  },
  {
   "cell_type": "markdown",
   "metadata": {
    "id": "39dhJ_IicHpK"
   },
   "source": [
    "## Problem 2\n",
    "Create a program that asks for a person's age and then categorizes them as a child, teenager, adult, or senior based on the age range as follows\n",
    "\n",
    "- child: age < 13\n",
    "- teenager: 13 to 19 inclusive\n",
    "- adult: 18 or above but under 65\n",
    "- senior: 65 or older"
   ]
  },
  {
   "cell_type": "code",
   "execution_count": 2,
   "metadata": {
    "id": "9WM9NqTIkNg9"
   },
   "outputs": [
    {
     "name": "stdout",
     "output_type": "stream",
     "text": [
      "Please enter your age: 78\n",
      "Senior\n"
     ]
    }
   ],
   "source": [
    "age= int(input(\"Please enter your age: \"))\n",
    "if age<13:\n",
    "    print(\"Child\")\n",
    "elif 13<= age<=19:         # age 18 and 19 fall in two age group: Teenager and Adult\n",
    "    print(\"Teenager\")\n",
    "    \n",
    "if 18<=age<65:\n",
    "    print(\"Adult\")\n",
    "elif age>=65:\n",
    "    print(\"Senior\")"
   ]
  },
  {
   "cell_type": "markdown",
   "metadata": {
    "id": "wt4-gJwJdPzC"
   },
   "source": [
    "## Problem 3\n",
    "\n",
    "Design a program that takes a number from 1 to 12 as input and prints the corresponding month name (e.g., 1 for January, 2 for February) using if-else."
   ]
  },
  {
   "cell_type": "code",
   "execution_count": 7,
   "metadata": {
    "id": "J7Q7WVUzdTEG"
   },
   "outputs": [
    {
     "name": "stdout",
     "output_type": "stream",
     "text": [
      "Enter a Number between 1 and 12 inclusive: 7\n",
      "July\n"
     ]
    }
   ],
   "source": [
    "#while True:\n",
    "    #number=int(input(\"Enter a Number between 1 and 12 inclusive: \"))\n",
    "   # if not(1<=number<=12):\n",
    "       # print(\"Wrong Number, Try again.\")\n",
    "       # continue\n",
    "    #else:\n",
    "       # break\n",
    "number=int(input(\"Enter a Number between 1 and 12 inclusive: \"))\n",
    "if 1<=number<=12:        \n",
    "    if number==1:\n",
    "        print(\" January\")\n",
    "    elif number==2:\n",
    "        print(\"February\")\n",
    "    elif number==2:\n",
    "        print(\"February\")\n",
    "    elif number==3:\n",
    "        print(\"March\")\n",
    "    elif number==4:\n",
    "        print(\"April\")\n",
    "    elif number==5:\n",
    "        print(\"May\")\n",
    "    elif number==6:\n",
    "        print(\"June\")\n",
    "    elif number==7:\n",
    "        print(\"July\")\n",
    "    elif number==8:\n",
    "        print(\"August\")\n",
    "    elif number==9:\n",
    "        print(\"September\")\n",
    "    elif number==10:\n",
    "        print(\"October\")\n",
    "    elif number==11:\n",
    "        print(\"November\")\n",
    "    else:\n",
    "        print(\"December\")\n",
    "else:\n",
    "    print(\"You have entered a number beyond the range\")"
   ]
  },
  {
   "cell_type": "markdown",
   "metadata": {
    "id": "aT_uL4wpdsXJ"
   },
   "source": [
    "#### Problem 4\n",
    "\n",
    "Write a Python program that takes a single character (a letter) as input and determines whether it is a vowel or a consonant using if-else."
   ]
  },
  {
   "cell_type": "code",
   "execution_count": 20,
   "metadata": {
    "id": "z7UHuOzDdpUA"
   },
   "outputs": [
    {
     "name": "stdout",
     "output_type": "stream",
     "text": [
      "Enter a single letter: we\n",
      "Your entered character(we) is a consonant.\n"
     ]
    }
   ],
   "source": [
    "# Solution of problem 4\n",
    "\n",
    "letter=input(\"Enter a single letter: \")\n",
    "if letter== 'a'or letter== 'A'or letter=='e'or letter=='E'or letter== 'i' or letter=='I'or letter=='o'or letter== 'O'or letter=='u'or letter=='U': # check vowel condition\n",
    "    print(f'Your entered character({letter}) is a vowel.')\n",
    "else:\n",
    "    print(f'Your entered character({letter}) is a consonant.')"
   ]
  },
  {
   "cell_type": "markdown",
   "metadata": {
    "id": "68kVeJ5zeNSK"
   },
   "source": [
    "## Problem 5\n",
    "\n",
    "Write a Python program that checks whether a given year is a leap year or not. Use an if-else statement to determine this.\n",
    "\n",
    "The logic for checking if a year is a leap year is as follows:\n",
    "\n",
    "1. If the year is divisible by 4 (year % 4 == 0) and not divisible by 100 (year % 100 != 0), it's a leap year.\n",
    "\n",
    "1. If the year is divisible by 400, it's also a leap year.\n",
    "\n",
    "Using this logic, you can determine whether a given year is a leap year or not."
   ]
  },
  {
   "cell_type": "code",
   "execution_count": 24,
   "metadata": {
    "id": "k0IyTQh_eSsv"
   },
   "outputs": [
    {
     "name": "stdout",
     "output_type": "stream",
     "text": [
      "Enter the year = 2024\n",
      "2024 is a Leap year\n"
     ]
    }
   ],
   "source": [
    "# Solution 5\n",
    "\n",
    "year=int(input(\"Enter the year = \"))\n",
    "# Leap year test\n",
    "if year%4==0 and year%100 !=0:\n",
    "    print(f'{year} is a Leap year')\n",
    "elif year%400==0:\n",
    "    print(f'{year} is a Leap year')\n",
    "else:\n",
    "    print(f'{year} is NOT a Leap year')"
   ]
  },
  {
   "cell_type": "markdown",
   "metadata": {},
   "source": []
  }
 ],
 "metadata": {
  "colab": {
   "provenance": [],
   "toc_visible": true
  },
  "kernelspec": {
   "display_name": "Python 3",
   "language": "python",
   "name": "python3"
  },
  "language_info": {
   "codemirror_mode": {
    "name": "ipython",
    "version": 3
   },
   "file_extension": ".py",
   "mimetype": "text/x-python",
   "name": "python",
   "nbconvert_exporter": "python",
   "pygments_lexer": "ipython3",
   "version": "3.7.6"
  }
 },
 "nbformat": 4,
 "nbformat_minor": 1
}
